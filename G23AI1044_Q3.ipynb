{
 "cells": [
  {
   "cell_type": "code",
   "execution_count": 1,
   "id": "8d3ae2d9-be07-416a-b721-702244c2dd8f",
   "metadata": {},
   "outputs": [],
   "source": [
    "import pandas as pd\n",
    "import matplotlib.pyplot as plt\n",
    "from sklearn.model_selection import train_test_split\n",
    "from tensorflow.keras.models import Sequential\n",
    "from tensorflow.keras.layers import Dense\n",
    "from sklearn.preprocessing import LabelEncoder"
   ]
  },
  {
   "cell_type": "code",
   "execution_count": 2,
   "id": "ff75cda2-f339-4c23-a99f-4f071d6541d0",
   "metadata": {},
   "outputs": [],
   "source": [
    "filepath =r\"Datasets/Dry_Bean_Dataset.xlsx - Dry_Beans_Dataset.csv\"\n",
    "dataset = pd.read_csv(filepath)"
   ]
  },
  {
   "cell_type": "code",
   "execution_count": 3,
   "id": "7261490a-d9f7-4c7b-a7b8-1bed2d4ff511",
   "metadata": {},
   "outputs": [
    {
     "name": "stdout",
     "output_type": "stream",
     "text": [
      "Class Distrubation\n",
      "Class\n",
      "DERMASON    3546\n",
      "SIRA        2636\n",
      "SEKER       2027\n",
      "HOROZ       1928\n",
      "CALI        1630\n",
      "BARBUNYA    1322\n",
      "BOMBAY       522\n",
      "Name: count, dtype: int64\n"
     ]
    }
   ],
   "source": [
    "distrubation = dataset['Class'].value_counts()\n",
    "print(\"Class Distrubation\")\n",
    "print(distrubation)"
   ]
  },
  {
   "cell_type": "code",
   "execution_count": 4,
   "id": "45078a9c-7e70-4523-9536-d4e303cff9d0",
   "metadata": {},
   "outputs": [
    {
     "data": {
      "text/plain": [
       "(7,)"
      ]
     },
     "execution_count": 4,
     "metadata": {},
     "output_type": "execute_result"
    }
   ],
   "source": [
    "distrubation.shape"
   ]
  },
  {
   "cell_type": "code",
   "execution_count": 5,
   "id": "4621a298-2ab4-483a-b114-d8c6d95f258f",
   "metadata": {},
   "outputs": [
    {
     "data": {
      "text/plain": [
       "count       7.000000\n",
       "mean     1944.428571\n",
       "std       962.633170\n",
       "min       522.000000\n",
       "25%      1476.000000\n",
       "50%      1928.000000\n",
       "75%      2331.500000\n",
       "max      3546.000000\n",
       "Name: count, dtype: float64"
      ]
     },
     "execution_count": 5,
     "metadata": {},
     "output_type": "execute_result"
    }
   ],
   "source": [
    "distrubation.describe()"
   ]
  },
  {
   "cell_type": "code",
   "execution_count": 6,
   "id": "a3bf3167-aad4-41f2-b040-cb866f319455",
   "metadata": {},
   "outputs": [
    {
     "data": {
      "text/plain": [
       "Class\n",
       "DERMASON    3546\n",
       "SIRA        2636\n",
       "SEKER       2027\n",
       "HOROZ       1928\n",
       "CALI        1630\n",
       "Name: count, dtype: int64"
      ]
     },
     "execution_count": 6,
     "metadata": {},
     "output_type": "execute_result"
    }
   ],
   "source": [
    "distrubation.head()"
   ]
  },
  {
   "cell_type": "code",
   "execution_count": 7,
   "id": "4c7dcbc3-65ab-4e64-9fc0-580c973c9c78",
   "metadata": {},
   "outputs": [
    {
     "data": {
      "text/plain": [
       "Class\n",
       "SEKER       2027\n",
       "HOROZ       1928\n",
       "CALI        1630\n",
       "BARBUNYA    1322\n",
       "BOMBAY       522\n",
       "Name: count, dtype: int64"
      ]
     },
     "execution_count": 7,
     "metadata": {},
     "output_type": "execute_result"
    }
   ],
   "source": [
    "distrubation.tail()"
   ]
  },
  {
   "cell_type": "code",
   "execution_count": 8,
   "id": "e89a7d3b-9150-4b6e-b212-5db6795fe148",
   "metadata": {},
   "outputs": [
    {
     "data": {
      "image/png": "[encoded data removed]",
      "text/plain": [
       "<Figure size 640x480 with 1 Axes>"
      ]
     },
     "metadata": {},
     "output_type": "display_data"
    }
   ],
   "source": [
    "distrubation.plot(kind='bar', title='Class Distribution')\n",
    "plt.show()"
   ]
  },
  {
   "cell_type": "code",
   "execution_count": 9,
   "id": "242df315-4f60-4e43-b9b6-518e9a95d66b",
   "metadata": {},
   "outputs": [],
   "source": [
    "# Spliting and Training data\n",
    "x = dataset.drop(columns=['Class'])\n",
    "y = dataset['Class']"
   ]
  },
  {
   "cell_type": "code",
   "execution_count": 10,
   "id": "622f2648-be55-42d5-b8ed-5afc2aea3b5c",
   "metadata": {},
   "outputs": [],
   "source": [
    "x_train, x_temp, y_train, y_temp = train_test_split(x,y,test_size=0.3,stratify=y,random_state=42)\n",
    "x_val, x_test, y_val, y_test = train_test_split(x_temp,y_temp,test_size=0.5,stratify=y_temp,random_state=42)"
   ]
  },
  {
   "cell_type": "code",
   "execution_count": 11,
   "id": "e1073c2a-3520-41ec-84fb-240d3279d981",
   "metadata": {},
   "outputs": [],
   "source": [
    "label_encoder = LabelEncoder()\n",
    "y_train_encoded = label_encoder.fit_transform(y_train)\n",
    "y_val_encoded = label_encoder.transform(y_val)"
   ]
  },
  {
   "cell_type": "code",
   "execution_count": 12,
   "id": "21688c05-0b6e-4f47-98ee-065baf2673ce",
   "metadata": {},
   "outputs": [
    {
     "name": "stderr",
     "output_type": "stream",
     "text": [
      "C:\\Users\\sasid\\AppData\\Local\\Programs\\Python\\Python311\\Lib\\site-packages\\keras\\src\\layers\\core\\dense.py:88: UserWarning: Do not pass an `input_shape`/`input_dim` argument to a layer. When using Sequential models, prefer using an `Input(shape)` object as the first layer in the model instead.\n",
      "  super().__init__(activity_regularizer=activity_regularizer, **kwargs)\n"
     ]
    }
   ],
   "source": [
    "num_classes = len(label_encoder.classes_)\n",
    "model1= Sequential([\n",
    "    Dense(64, activation='relu',input_shape=(x_train.shape[1],)),\n",
    "    Dense(32, activation='relu'),\n",
    "    Dense(16, activation='relu'),\n",
    "    Dense(num_classes,activation='softmax')\n",
    "])"
   ]
  },
  {
   "cell_type": "code",
   "execution_count": 13,
   "id": "524fac2d-1088-455a-9a7f-5eb038f9c3d9",
   "metadata": {},
   "outputs": [
    {
     "name": "stdout",
     "output_type": "stream",
     "text": [
      "Epoch 1/20\n",
      "\u001b[1m298/298\u001b[0m \u001b[32m━━━━━━━━━━━━━━━━━━━━\u001b[0m\u001b[37m\u001b[0m \u001b[1m3s\u001b[0m 4ms/step - accuracy: 0.1699 - loss: 1547.4169 - val_accuracy: 0.1415 - val_loss: 1.9351\n",
      "Epoch 2/20\n",
      "\u001b[1m298/298\u001b[0m \u001b[32m━━━━━━━━━━━━━━━━━━━━\u001b[0m\u001b[37m\u001b[0m \u001b[1m1s\u001b[0m 3ms/step - accuracy: 0.1653 - loss: 1.9264 - val_accuracy: 0.2605 - val_loss: 1.9017\n",
      "Epoch 3/20\n",
      "\u001b[1m298/298\u001b[0m \u001b[32m━━━━━━━━━━━━━━━━━━━━\u001b[0m\u001b[37m\u001b[0m \u001b[1m1s\u001b[0m 3ms/step - accuracy: 0.2543 - loss: 1.8958 - val_accuracy: 0.2605 - val_loss: 1.8756\n",
      "Epoch 4/20\n",
      "\u001b[1m298/298\u001b[0m \u001b[32m━━━━━━━━━━━━━━━━━━━━\u001b[0m\u001b[37m\u001b[0m \u001b[1m1s\u001b[0m 3ms/step - accuracy: 0.2636 - loss: 1.8697 - val_accuracy: 0.2605 - val_loss: 1.8585\n",
      "Epoch 5/20\n",
      "\u001b[1m298/298\u001b[0m \u001b[32m━━━━━━━━━━━━━━━━━━━━\u001b[0m\u001b[37m\u001b[0m \u001b[1m1s\u001b[0m 3ms/step - accuracy: 0.2594 - loss: 1.8582 - val_accuracy: 0.2605 - val_loss: 1.8485\n",
      "Epoch 6/20\n",
      "\u001b[1m298/298\u001b[0m \u001b[32m━━━━━━━━━━━━━━━━━━━━\u001b[0m\u001b[37m\u001b[0m \u001b[1m1s\u001b[0m 3ms/step - accuracy: 0.2619 - loss: 1.8493 - val_accuracy: 0.2605 - val_loss: 1.8425\n",
      "Epoch 7/20\n",
      "\u001b[1m298/298\u001b[0m \u001b[32m━━━━━━━━━━━━━━━━━━━━\u001b[0m\u001b[37m\u001b[0m \u001b[1m1s\u001b[0m 3ms/step - accuracy: 0.2568 - loss: 1.8410 - val_accuracy: 0.2605 - val_loss: 1.8393\n",
      "Epoch 8/20\n",
      "\u001b[1m298/298\u001b[0m \u001b[32m━━━━━━━━━━━━━━━━━━━━\u001b[0m\u001b[37m\u001b[0m \u001b[1m1s\u001b[0m 3ms/step - accuracy: 0.2624 - loss: 1.8420 - val_accuracy: 0.2605 - val_loss: 1.8373\n",
      "Epoch 9/20\n",
      "\u001b[1m298/298\u001b[0m \u001b[32m━━━━━━━━━━━━━━━━━━━━\u001b[0m\u001b[37m\u001b[0m \u001b[1m1s\u001b[0m 3ms/step - accuracy: 0.2619 - loss: 1.8360 - val_accuracy: 0.2605 - val_loss: 1.8362\n",
      "Epoch 10/20\n",
      "\u001b[1m298/298\u001b[0m \u001b[32m━━━━━━━━━━━━━━━━━━━━\u001b[0m\u001b[37m\u001b[0m \u001b[1m1s\u001b[0m 3ms/step - accuracy: 0.2674 - loss: 1.8360 - val_accuracy: 0.2605 - val_loss: 1.8355\n",
      "Epoch 11/20\n",
      "\u001b[1m298/298\u001b[0m \u001b[32m━━━━━━━━━━━━━━━━━━━━\u001b[0m\u001b[37m\u001b[0m \u001b[1m1s\u001b[0m 3ms/step - accuracy: 0.2657 - loss: 1.8361 - val_accuracy: 0.2605 - val_loss: 1.8351\n",
      "Epoch 12/20\n",
      "\u001b[1m298/298\u001b[0m \u001b[32m━━━━━━━━━━━━━━━━━━━━\u001b[0m\u001b[37m\u001b[0m \u001b[1m1s\u001b[0m 3ms/step - accuracy: 0.2658 - loss: 1.8358 - val_accuracy: 0.2605 - val_loss: 1.8349\n",
      "Epoch 13/20\n",
      "\u001b[1m298/298\u001b[0m \u001b[32m━━━━━━━━━━━━━━━━━━━━\u001b[0m\u001b[37m\u001b[0m \u001b[1m1s\u001b[0m 3ms/step - accuracy: 0.2563 - loss: 1.8370 - val_accuracy: 0.2605 - val_loss: 1.8347\n",
      "Epoch 14/20\n",
      "\u001b[1m298/298\u001b[0m \u001b[32m━━━━━━━━━━━━━━━━━━━━\u001b[0m\u001b[37m\u001b[0m \u001b[1m1s\u001b[0m 3ms/step - accuracy: 0.2621 - loss: 1.8289 - val_accuracy: 0.2605 - val_loss: 1.8347\n",
      "Epoch 15/20\n",
      "\u001b[1m298/298\u001b[0m \u001b[32m━━━━━━━━━━━━━━━━━━━━\u001b[0m\u001b[37m\u001b[0m \u001b[1m1s\u001b[0m 3ms/step - accuracy: 0.2582 - loss: 1.8373 - val_accuracy: 0.2605 - val_loss: 1.8346\n",
      "Epoch 16/20\n",
      "\u001b[1m298/298\u001b[0m \u001b[32m━━━━━━━━━━━━━━━━━━━━\u001b[0m\u001b[37m\u001b[0m \u001b[1m1s\u001b[0m 3ms/step - accuracy: 0.2562 - loss: 1.8324 - val_accuracy: 0.2605 - val_loss: 1.8346\n",
      "Epoch 17/20\n",
      "\u001b[1m298/298\u001b[0m \u001b[32m━━━━━━━━━━━━━━━━━━━━\u001b[0m\u001b[37m\u001b[0m \u001b[1m1s\u001b[0m 3ms/step - accuracy: 0.2552 - loss: 1.8420 - val_accuracy: 0.2605 - val_loss: 1.8346\n",
      "Epoch 18/20\n",
      "\u001b[1m298/298\u001b[0m \u001b[32m━━━━━━━━━━━━━━━━━━━━\u001b[0m\u001b[37m\u001b[0m \u001b[1m1s\u001b[0m 3ms/step - accuracy: 0.2666 - loss: 1.8317 - val_accuracy: 0.2605 - val_loss: 1.8346\n",
      "Epoch 19/20\n",
      "\u001b[1m298/298\u001b[0m \u001b[32m━━━━━━━━━━━━━━━━━━━━\u001b[0m\u001b[37m\u001b[0m \u001b[1m1s\u001b[0m 3ms/step - accuracy: 0.2658 - loss: 1.8257 - val_accuracy: 0.2605 - val_loss: 1.8346\n",
      "Epoch 20/20\n",
      "\u001b[1m298/298\u001b[0m \u001b[32m━━━━━━━━━━━━━━━━━━━━\u001b[0m\u001b[37m\u001b[0m \u001b[1m1s\u001b[0m 2ms/step - accuracy: 0.2569 - loss: 1.8358 - val_accuracy: 0.2605 - val_loss: 1.8346\n",
      "\u001b[1m64/64\u001b[0m \u001b[32m━━━━━━━━━━━━━━━━━━━━\u001b[0m\u001b[37m\u001b[0m \u001b[1m0s\u001b[0m 2ms/step - accuracy: 0.2614 - loss: 1.8455\n",
      "Test Accuracy: 0.26052889227867126\n"
     ]
    }
   ],
   "source": [
    "model1.compile(optimizer='adam',\n",
    "               loss='sparse_categorical_crossentropy',\n",
    "               metrics=['accuracy'])\n",
    "history = model1.fit(x_train,y_train_encoded,epochs=20,batch_size=32,validation_data=(x_val,y_val_encoded))\n",
    "test_loss, test_accuracy = model1.evaluate(x_test,label_encoder.transform(y_test))\n",
    "print(\"Test Accuracy:\",test_accuracy)"
   ]
  },
  {
   "cell_type": "code",
   "execution_count": null,
   "id": "104b023b-956a-4d0f-959c-b4c8b8654b4c",
   "metadata": {},
   "outputs": [],
   "source": []
  }
 ],
 "metadata": {
  "kernelspec": {
   "display_name": "Python 3 (ipykernel)",
   "language": "python",
   "name": "python3"
  },
  "language_info": {
   "codemirror_mode": {
    "name": "ipython",
    "version": 3
   },
   "file_extension": ".py",
   "mimetype": "text/x-python",
   "name": "python",
   "nbconvert_exporter": "python",
   "pygments_lexer": "ipython3",
   "version": "3.11.5"
  }
 },
 "nbformat": 4,
 "nbformat_minor": 5
}
